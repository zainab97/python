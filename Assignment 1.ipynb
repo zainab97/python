{
 "cells": [
  {
   "cell_type": "code",
   "execution_count": 4,
   "metadata": {},
   "outputs": [
    {
     "name": "stdout",
     "output_type": "stream",
     "text": [
      "Twinkle, twinkle,little star,\n",
      "\tHow I Wonder What You Are!\n",
      "\t\t Up above the world soo high,\n",
      "\t\t Like a diamond in the sky,\n",
      "Twinkle, twinkle,little star,\n",
      "\tHow I Wonder What You Are!\n"
     ]
    }
   ],
   "source": [
    "print(\"Twinkle, twinkle,little star,\\n\\tHow I Wonder What You Are!\\n\\t\\t Up above the world soo high,\\n\\t\\t Like a diamond in the sky,\\nTwinkle, twinkle,little star,\\n\\tHow I Wonder What You Are!\")"
   ]
  },
  {
   "cell_type": "code",
   "execution_count": 3,
   "metadata": {},
   "outputs": [
    {
     "name": "stdout",
     "output_type": "stream",
     "text": [
      "khurshid zainab\n"
     ]
    }
   ],
   "source": [
    "name=\"zainab\"\n",
    "last_name=\"khurshid\"\n",
    "print(last_name+\" \"+ name)"
   ]
  },
  {
   "cell_type": "code",
   "execution_count": 2,
   "metadata": {},
   "outputs": [
    {
     "name": "stdout",
     "output_type": "stream",
     "text": [
      "enter vaue for a:10\n",
      "enter vau for b:12\n",
      "22\n"
     ]
    }
   ],
   "source": [
    "a=int(input(\"enter vaue for a:\"))\n",
    "b=int(input(\"enter vau for b:\"))\n",
    "c=a+b\n",
    "print(c)"
   ]
  },
  {
   "cell_type": "code",
   "execution_count": 5,
   "metadata": {},
   "outputs": [
    {
     "name": "stdout",
     "output_type": "stream",
     "text": [
      "enter radius20\n",
      "1257.142857142857\n"
     ]
    }
   ],
   "source": [
    "r=int(input(\"enter radius\"))\n",
    "pi=22/7\n",
    "area=pi*r*r\n",
    "print(area)"
   ]
  },
  {
   "cell_type": "code",
   "execution_count": 9,
   "metadata": {},
   "outputs": [
    {
     "name": "stdout",
     "output_type": "stream",
     "text": [
      "Date is: 2019-11-02\n",
      "Time is: 16:03:10.727151\n"
     ]
    }
   ],
   "source": [
    "from datetime import datetime\n",
    "today=datetime.date(datetime.now())\n",
    "time=datetime.time(datetime.now())\n",
    "print(\"Date is:\",today)\n",
    "print(\"Time is:\",time)\n",
    "\n",
    "\n",
    "\n"
   ]
  },
  {
   "cell_type": "code",
   "execution_count": 1,
   "metadata": {},
   "outputs": [
    {
     "name": "stdout",
     "output_type": "stream",
     "text": [
      "python version is : 3.7.3 (default, Apr 24 2019, 13:20:13) [MSC v.1915 32 bit (Intel)]\n"
     ]
    }
   ],
   "source": [
    "import sys\n",
    "ver=sys.version\n",
    "print(\"python version is :\",ver)"
   ]
  },
  {
   "cell_type": "code",
   "execution_count": null,
   "metadata": {},
   "outputs": [],
   "source": []
  },
  {
   "cell_type": "code",
   "execution_count": null,
   "metadata": {},
   "outputs": [],
   "source": []
  },
  {
   "cell_type": "code",
   "execution_count": null,
   "metadata": {},
   "outputs": [],
   "source": []
  }
 ],
 "metadata": {
  "kernelspec": {
   "display_name": "Python 3",
   "language": "python",
   "name": "python3"
  },
  "language_info": {
   "codemirror_mode": {
    "name": "ipython",
    "version": 3
   },
   "file_extension": ".py",
   "mimetype": "text/x-python",
   "name": "python",
   "nbconvert_exporter": "python",
   "pygments_lexer": "ipython3",
   "version": "3.7.3"
  }
 },
 "nbformat": 4,
 "nbformat_minor": 2
}
